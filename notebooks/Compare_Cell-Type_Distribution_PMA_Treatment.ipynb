{
 "cells": [
  {
   "cell_type": "markdown",
   "metadata": {},
   "source": [
    "# Compare Cell-Type Distribution PMA Treatment\n",
    "Below we will compare cell-type distributions before and after PMA treatment. "
   ]
  },
  {
   "cell_type": "code",
   "execution_count": 1,
   "metadata": {},
   "outputs": [],
   "source": [
    "import pandas as pd\n",
    "from clustergrammer_widget import *\n",
    "net = Network(clustergrammer_widget)"
   ]
  },
  {
   "cell_type": "code",
   "execution_count": 2,
   "metadata": {},
   "outputs": [],
   "source": [
    "# Plasma Treated\n",
    "net.load_file('../cytof_data/Plasma_UCT.txt')\n",
    "net.random_sample(axis='row', num_samples=110000, random_state=99)\n",
    "df_plasma = net.export_df()\n",
    "\n",
    "# PMA Treated\n",
    "net.load_file('../cytof_data/PMA_UCT.txt')\n",
    "net.random_sample(axis='row', num_samples=110000, random_state=99)\n",
    "df_pma = net.export_df()"
   ]
  },
  {
   "cell_type": "code",
   "execution_count": 3,
   "metadata": {},
   "outputs": [
    {
     "data": {
      "text/plain": [
       "(110000, 28)"
      ]
     },
     "execution_count": 3,
     "metadata": {},
     "output_type": "execute_result"
    }
   ],
   "source": [
    "df_plasma.shape"
   ]
  },
  {
   "cell_type": "code",
   "execution_count": 4,
   "metadata": {},
   "outputs": [
    {
     "data": {
      "text/plain": [
       "(110000, 28)"
      ]
     },
     "execution_count": 4,
     "metadata": {},
     "output_type": "execute_result"
    }
   ],
   "source": [
    "df_pma.shape"
   ]
  },
  {
   "cell_type": "code",
   "execution_count": 5,
   "metadata": {
    "collapsed": true
   },
   "outputs": [],
   "source": [
    "# manually set treatment colors\n",
    "net.set_cat_color('col', 1, 'Marker-type: phospho marker', 'red')\n",
    "net.set_cat_color('col', 1, 'Marker-type: surface marker', 'blue')\n",
    "\n",
    "# manually set row colors: downsample\n",
    "net.set_cat_color('row', 2, 'Majority-Category: B cells', '#22316C')\n",
    "net.set_cat_color('row', 2, 'Majority-Category: Basophils', '#000033')\n",
    "net.set_cat_color('row', 2, 'Majority-Category: CD14hi monocytes', 'yellow')\n",
    "net.set_cat_color('row', 2, 'Majority-Category: CD14low monocytes', '#93b8bf')\n",
    "net.set_cat_color('row', 2, 'Majority-Category: CD1c DCs', '#3636e2')\n",
    "net.set_cat_color('row', 2, 'Majority-Category: CD4 Tcells', 'blue')\n",
    "net.set_cat_color('row', 2, 'Majority-Category: CD4 Tcells_CD127hi', '#FF6347')\n",
    "net.set_cat_color('row', 2, 'Majority-Category: CD4 Tcells CD161hi', '#F87531')\n",
    "net.set_cat_color('row', 2, 'Majority-Category: CD4 Tcells_Tregs', '#8B4513')\n",
    "net.set_cat_color('row', 2, 'Majority-Category: CD4 Tcells+CD27hi', '#330303')\n",
    "net.set_cat_color('row', 2, 'Majority-Category: CD8 Tcells', '#ffb247')\n",
    "net.set_cat_color('row', 2, 'Majority-Category: Neutrophils', 'purple')\n",
    "net.set_cat_color('row', 2, 'Majority-Category: NK cells_CD16hi', 'red')\n",
    "net.set_cat_color('row', 2, 'Majority-Category: NK cells_CD16hi_CD57hi', 'orange')\n",
    "net.set_cat_color('row', 2, 'Majority-Category: NK cells_CD56hi', '#e052e5')\n",
    "net.set_cat_color('row', 2, 'Majority-Category: Undefined', 'gray')\n",
    "\n",
    "# manually set row colors: subsample\n",
    "net.set_cat_color('row', 2, 'B cells', '#22316C')\n",
    "net.set_cat_color('row', 2, 'Basophils', '#000033')\n",
    "net.set_cat_color('row', 2, 'CD14hi monocytes', 'yellow')\n",
    "net.set_cat_color('row', 2, 'CD14low monocytes', '#93b8bf')\n",
    "net.set_cat_color('row', 2, 'CD1c DCs', '#3636e2')\n",
    "net.set_cat_color('row', 2, 'CD4 Tcells', 'blue')\n",
    "net.set_cat_color('row', 2, 'CD4 Tcells_CD127hi', '#FF6347')\n",
    "net.set_cat_color('row', 2, 'CD4 Tcells CD161hi', '#F87531')\n",
    "net.set_cat_color('row', 2, 'CD4 Tcells_Tregs', '#8B4513')\n",
    "net.set_cat_color('row', 2, 'CD4 Tcells+CD27hi', '#330303')\n",
    "net.set_cat_color('row', 2, 'CD8 Tcells', '#ffb247')\n",
    "net.set_cat_color('row', 2, 'Neutrophils', 'purple')\n",
    "net.set_cat_color('row', 2, 'NK cells_CD16hi', 'red')\n",
    "net.set_cat_color('row', 2, 'NK cells_CD16hi_CD57hi', 'orange')\n",
    "net.set_cat_color('row', 2, 'NK cells_CD56hi', '#e052e5')\n",
    "net.set_cat_color('row', 2, 'Undefined', 'gray')\n",
    "\n",
    "# manually set treatment colors\n",
    "net.set_cat_color('row', 1, 'Majority-Treatment: Plasma', 'blue')\n",
    "net.set_cat_color('row', 1, 'Majority-Treatment: PMA', 'red')\n",
    "\n",
    "net.set_cat_color('row', 1, 'Treatment: Plasma', 'blue')\n",
    "net.set_cat_color('row', 1, 'Treatment: PMA', 'red')"
   ]
  },
  {
   "cell_type": "markdown",
   "metadata": {},
   "source": [
    "# Plasma Cell Line Breakdown "
   ]
  },
  {
   "cell_type": "code",
   "execution_count": 6,
   "metadata": {},
   "outputs": [
    {
     "data": {
      "application/vnd.jupyter.widget-view+json": {
       "model_id": "6c756a5c95234fff8e740d243a119bba"
      }
     },
     "metadata": {},
     "output_type": "display_data"
    }
   ],
   "source": [
    "net.load_df(df_plasma)\n",
    "net.random_sample(axis='row', num_samples=2000, random_state=99)\n",
    "df_plasma_sub = net.export_df()\n",
    "net.filter_cat('col', 1, 'Marker-type: surface marker')\n",
    "net.normalize(axis='col', norm_type='zscore', keep_orig=False)\n",
    "net.clip(-10, 10)\n",
    "net.cluster(views=[])\n",
    "net.widget()"
   ]
  },
  {
   "cell_type": "markdown",
   "metadata": {},
   "source": [
    "# PMA Cell Line Breakdown"
   ]
  },
  {
   "cell_type": "code",
   "execution_count": 7,
   "metadata": {},
   "outputs": [
    {
     "data": {
      "application/vnd.jupyter.widget-view+json": {
       "model_id": "f4361ed1df784f639569e5c5d76454e1"
      }
     },
     "metadata": {},
     "output_type": "display_data"
    }
   ],
   "source": [
    "net.load_df(df_pma)\n",
    "net.random_sample(axis='row', num_samples=2000, random_state=99)\n",
    "df_pma_sub = net.export_df()\n",
    "net.filter_cat('col', 1, 'Marker-type: surface marker')\n",
    "net.normalize(axis='col', norm_type='zscore', keep_orig=False)\n",
    "net.clip(-10, 10)\n",
    "net.cluster(views=[])\n",
    "net.widget()"
   ]
  },
  {
   "cell_type": "markdown",
   "metadata": {},
   "source": [
    "### PMA vs Plasma in Surface Marker Space\n",
    "\n"
   ]
  },
  {
   "cell_type": "code",
   "execution_count": 8,
   "metadata": {},
   "outputs": [
    {
     "name": "stdout",
     "output_type": "stream",
     "text": [
      "(4000, 28)\n"
     ]
    }
   ],
   "source": [
    "df_merge = pd.concat([df_plasma_sub, df_pma_sub])\n",
    "print(df_merge.shape)"
   ]
  },
  {
   "cell_type": "code",
   "execution_count": null,
   "metadata": {
    "collapsed": true
   },
   "outputs": [],
   "source": []
  },
  {
   "cell_type": "code",
   "execution_count": 9,
   "metadata": {},
   "outputs": [
    {
     "data": {
      "application/vnd.jupyter.widget-view+json": {
       "model_id": "8de4658e7a6d446b9987093370700374"
      }
     },
     "metadata": {},
     "output_type": "display_data"
    }
   ],
   "source": [
    "net.load_df(df_merge)\n",
    "net.filter_cat('col', 1, 'Marker-type: surface marker')\n",
    "net.normalize(axis='col', norm_type='zscore', keep_orig=False)\n",
    "net.clip(-10,10)\n",
    "net.cluster(views=[])\n",
    "net.widget()"
   ]
  },
  {
   "cell_type": "markdown",
   "metadata": {},
   "source": [
    "### PMA vs Plasma in Phospho-Space"
   ]
  },
  {
   "cell_type": "code",
   "execution_count": 10,
   "metadata": {},
   "outputs": [
    {
     "data": {
      "application/vnd.jupyter.widget-view+json": {
       "model_id": "239cf489bb7b4e408a3a4d99119ad83d"
      }
     },
     "metadata": {},
     "output_type": "display_data"
    }
   ],
   "source": [
    "net.load_df(df_merge)\n",
    "net.filter_cat('col', 1, 'Marker-type: phospho marker')\n",
    "net.normalize(axis='col', norm_type='zscore', keep_orig=False)\n",
    "net.clip(-10,10)\n",
    "net.cluster(views=[])\n",
    "net.widget()"
   ]
  },
  {
   "cell_type": "markdown",
   "metadata": {},
   "source": [
    "# CD14hi Monocytes\n"
   ]
  },
  {
   "cell_type": "code",
   "execution_count": 19,
   "metadata": {},
   "outputs": [
    {
     "name": "stdout",
     "output_type": "stream",
     "text": [
      "in make_sim_mat, which_sim: ['col']\n"
     ]
    },
    {
     "data": {
      "application/vnd.jupyter.widget-view+json": {
       "model_id": "c20515a4f348477fa75d85aaa3ef5881"
      }
     },
     "metadata": {},
     "output_type": "display_data"
    }
   ],
   "source": [
    "net.load_df(df_merge)\n",
    "net.normalize(axis='col', norm_type='zscore', keep_orig=False)\n",
    "net.filter_cat('row', 2, 'CD14hi monocytes')\n",
    "df_cd14himono = net.export_df()\n",
    "net.clip(-10,10)\n",
    "net.cluster(views=[], sim_mat='col')\n",
    "net.widget()"
   ]
  },
  {
   "cell_type": "code",
   "execution_count": 18,
   "metadata": {},
   "outputs": [
    {
     "data": {
      "application/vnd.jupyter.widget-view+json": {
       "model_id": "cff1f500a9b844fcabb0db7505bec8a4"
      }
     },
     "metadata": {},
     "output_type": "display_data"
    }
   ],
   "source": [
    "net.widget('sim_col')"
   ]
  },
  {
   "cell_type": "code",
   "execution_count": 20,
   "metadata": {},
   "outputs": [
    {
     "data": {
      "text/plain": [
       "(298, 28)"
      ]
     },
     "execution_count": 20,
     "metadata": {},
     "output_type": "execute_result"
    }
   ],
   "source": [
    "df_cd14himono.shape"
   ]
  },
  {
   "cell_type": "code",
   "execution_count": null,
   "metadata": {
    "collapsed": true
   },
   "outputs": [],
   "source": [
    "rows ="
   ]
  }
 ],
 "metadata": {
  "anaconda-cloud": {},
  "kernelspec": {
   "display_name": "Python [Root]",
   "language": "python",
   "name": "Python [Root]"
  },
  "language_info": {
   "codemirror_mode": {
    "name": "ipython",
    "version": 2
   },
   "file_extension": ".py",
   "mimetype": "text/x-python",
   "name": "python",
   "nbconvert_exporter": "python",
   "pygments_lexer": "ipython2",
   "version": "2.7.12"
  }
 },
 "nbformat": 4,
 "nbformat_minor": 2
}
