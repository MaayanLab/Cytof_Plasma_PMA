{
 "cells": [
  {
   "cell_type": "markdown",
   "metadata": {},
   "source": [
    "# T-test\n",
    "example"
   ]
  },
  {
   "cell_type": "code",
   "execution_count": 67,
   "metadata": {},
   "outputs": [],
   "source": [
    "import numpy as np\n",
    "import pandas as pd\n",
    "from scipy.stats import ttest_ind\n",
    "from collections import Counter"
   ]
  },
  {
   "cell_type": "code",
   "execution_count": null,
   "metadata": {
    "collapsed": true
   },
   "outputs": [],
   "source": [
    "from clustergrammer_widget import *\n",
    "net = Network(clustergrammer_widget)"
   ]
  },
  {
   "cell_type": "code",
   "execution_count": 2,
   "metadata": {},
   "outputs": [
    {
     "name": "stdout",
     "output_type": "stream",
     "text": [
      "ttest_ind:2.81708330972e-07\n"
     ]
    }
   ],
   "source": [
    "np.random.seed(99)\n",
    "\n",
    "# Create sample data.\n",
    "a = np.random.randn(10000)\n",
    "b = np.random.randn(10000) + 0.1\n",
    "\n",
    "# Use scipy.stats.ttest_ind.\n",
    "t, p = ttest_ind(a, b, equal_var=False)\n",
    "\n",
    "print('ttest_ind:' + str(p))"
   ]
  },
  {
   "cell_type": "markdown",
   "metadata": {},
   "source": [
    "# Cell-Type Populations in Plasma and PMA Treated\n",
    "\n",
    "## Load Data"
   ]
  },
  {
   "cell_type": "code",
   "execution_count": 3,
   "metadata": {},
   "outputs": [
    {
     "name": "stdout",
     "output_type": "stream",
     "text": [
      "(110000, 28)\n",
      "(110000, 28)\n"
     ]
    }
   ],
   "source": [
    "# Plasma Treated\n",
    "net.load_file('../cytof_data/Plasma_UCT.txt')\n",
    "net.random_sample(axis='row', num_samples=110000, random_state=99)\n",
    "df_plasma = net.export_df()\n",
    "\n",
    "print(df_plasma.shape)\n",
    "\n",
    "# PMA Treated\n",
    "net.load_file('../cytof_data/PMA_UCT.txt')\n",
    "net.random_sample(axis='row', num_samples=110000, random_state=99)\n",
    "df_pma = net.export_df()\n",
    "\n",
    "print(df_pma.shape)"
   ]
  },
  {
   "cell_type": "markdown",
   "metadata": {},
   "source": [
    "## Randomly Sample Data and Calc Cell-Type Populations"
   ]
  },
  {
   "cell_type": "code",
   "execution_count": 122,
   "metadata": {},
   "outputs": [
    {
     "name": "stdout",
     "output_type": "stream",
     "text": [
      "done\n"
     ]
    }
   ],
   "source": [
    "np.random.seed(99)\n",
    "num_samples = 2000\n",
    "num_runs = 100\n",
    "\n",
    "sampled_counts = {}\n",
    "sampled_counts['plasma'] = {}\n",
    "sampled_counts['pma'] = {}\n",
    "\n",
    "for inst_treatment in ['plasma', 'pma']:\n",
    "    \n",
    "    for i in range(num_runs):\n",
    "\n",
    "        # randomly subsample \n",
    "        random_state = int(np.random.random()*100)    \n",
    "        net.load_df(df_plasma)\n",
    "        net.random_sample(axis='row', num_samples=num_samples, random_state=random_state)\n",
    "        inst_df = net.export_df()\n",
    "        inst_rows = inst_df.index.tolist()\n",
    "\n",
    "        # get cell-types from rows\n",
    "        all_types = [i[2] for i in inst_rows]\n",
    "\n",
    "        types_list = sorted(list(set(all_types)))\n",
    "\n",
    "        # get the counts of all cell types in the subsampled data\n",
    "        inst_counts = Counter(all_types)\n",
    "\n",
    "        for inst_type in inst_counts.keys():\n",
    "\n",
    "            # initialize counts\n",
    "            if inst_type not in sampled_counts[inst_treatment]:\n",
    "                sampled_counts[inst_treatment][inst_type] = []\n",
    "\n",
    "            # append new count\n",
    "            sampled_counts[inst_treatment][inst_type].append(inst_counts[inst_type])\n",
    "            \n",
    "    # change to numpy array \n",
    "    for inst_type in sampled_counts[inst_treatment]:\n",
    "        sampled_counts[inst_treatment][inst_type] = np.asarray(sampled_counts[inst_treatment][inst_type])\n",
    "    \n",
    "    \n",
    "    \n",
    "print('done')"
   ]
  },
  {
   "cell_type": "code",
   "execution_count": 124,
   "metadata": {},
   "outputs": [
    {
     "name": "stdout",
     "output_type": "stream",
     "text": [
      "124.3\n",
      "9.45991543303\n"
     ]
    }
   ],
   "source": [
    "print(sampled_counts['pma']['B cells'].mean())\n",
    "print(sampled_counts['pma']['B cells'].std())"
   ]
  },
  {
   "cell_type": "code",
   "execution_count": 125,
   "metadata": {},
   "outputs": [
    {
     "name": "stdout",
     "output_type": "stream",
     "text": [
      "124.31\n",
      "11.3821746604\n"
     ]
    }
   ],
   "source": [
    "print(sampled_counts['plasma']['B cells'].mean())\n",
    "print(sampled_counts['plasma']['B cells'].std())"
   ]
  },
  {
   "cell_type": "markdown",
   "metadata": {},
   "source": [
    "## Calc Stats and Significant Differences Between Plasma and PMA"
   ]
  },
  {
   "cell_type": "code",
   "execution_count": 126,
   "metadata": {},
   "outputs": [
    {
     "name": "stdout",
     "output_type": "stream",
     "text": [
      "NK cells_CD56hi\n",
      "Plasma: 21.7 PMA: 22.17\n",
      "ttest_ind: 0.427762153249\n",
      "\n",
      "CD4 Tcells\n",
      "Plasma: 472.61 PMA: 473.67\n",
      "ttest_ind: 0.696218828586\n",
      "\n",
      "Undefined\n",
      "Plasma: 78.24 PMA: 77.55\n",
      "ttest_ind: 0.528964347678\n",
      "\n",
      "B cells\n",
      "Plasma: 124.31 PMA: 124.3\n",
      "ttest_ind: 0.994642994464\n",
      "\n",
      "CD8 Tcells\n",
      "Plasma: 277.63 PMA: 280.31\n",
      "ttest_ind: 0.271429925343\n",
      "\n",
      "CD1c DCs\n",
      "Plasma: 46.42 PMA: 47.06\n",
      "ttest_ind: 0.468327298808\n",
      "\n",
      "NK cells_CD16hi_CD57hi\n",
      "Plasma: 119.27 PMA: 117.07\n",
      "ttest_ind: 0.108796687434\n",
      "\n",
      "CD4 Tcells_CD161hi\n",
      "Plasma: 72.15 PMA: 72.14\n",
      "ttest_ind: 0.993150834628\n",
      "\n",
      "NK cells_CD16hi\n",
      "Plasma: 156.52 PMA: 157.14\n",
      "ttest_ind: 0.728304150694\n",
      "\n",
      "CD14hi monocytes\n",
      "Plasma: 170.72 PMA: 168.98\n",
      "ttest_ind: 0.333920750767\n",
      "\n",
      "CD4 Tcells+CD27hi\n",
      "Plasma: 218.17 PMA: 218.19\n",
      "ttest_ind: 0.991280263886\n",
      "\n",
      "CD14low monocytes\n",
      "Plasma: 10.89 PMA: 11.28\n",
      "ttest_ind: 0.475338973344\n",
      "\n",
      "CD4 Tcells_CD127hi\n",
      "Plasma: 86.55 PMA: 86.95\n",
      "ttest_ind: 0.779181874194\n",
      "\n",
      "Basophils\n",
      "Plasma: 24.13 PMA: 23.06\n",
      "ttest_ind: 0.124360203148\n",
      "\n",
      "Neutrophils\n",
      "Plasma: 2.88172043011 PMA: 2.69411764706\n",
      "ttest_ind: 0.39232866287\n",
      "\n",
      "CD4 Tcells_Tregs\n",
      "Plasma: 118.01 PMA: 117.84\n",
      "ttest_ind: 0.909417227293\n",
      "\n"
     ]
    }
   ],
   "source": [
    "results = {}\n",
    "\n",
    "for inst_type in sampled_counts['plasma']:\n",
    "    \n",
    "    results[inst_type] = {}\n",
    "    \n",
    "    a = sampled_counts['plasma'][inst_type]\n",
    "    b = sampled_counts['pma'][inst_type]\n",
    "\n",
    "    a_mean = a.mean()\n",
    "    b_mean = b.mean()\n",
    "    \n",
    "    a_std = a.std()\n",
    "    b_std = b.std()    \n",
    "    \n",
    "    results[inst_type]['plasma_mean'] = a_mean\n",
    "    results[inst_type]['pma_mean'] = b_mean   \n",
    "\n",
    "    results[inst_type]['plasma_std'] = a_std\n",
    "    results[inst_type]['pma_std'] = b_std      \n",
    "    \n",
    "    print(inst_type)\n",
    "    print('Plasma: ' + str(a_mean) + ' PMA: ' + str(b_mean))\n",
    "\n",
    "    t, p = ttest_ind(a, b, equal_var=False)\n",
    "    \n",
    "    results[inst_type]['ttest_t'] = t\n",
    "    results[inst_type]['ttest_pval'] = t\n",
    "\n",
    "    print('ttest_ind: ' + str(p) + '\\n')"
   ]
  },
  {
   "cell_type": "code",
   "execution_count": 129,
   "metadata": {},
   "outputs": [],
   "source": [
    "# results"
   ]
  },
  {
   "cell_type": "code",
   "execution_count": 131,
   "metadata": {
    "collapsed": true
   },
   "outputs": [],
   "source": [
    "# these are two functions that save and load data in json\n",
    "\n",
    "# save dict to json\n",
    "def save_to_json(inst_dict, filename, indent='no-indent'):\n",
    "  import json\n",
    "\n",
    "  # save as a json\n",
    "  fw = open(filename, 'w')\n",
    "  if indent == 'indent':\n",
    "    fw.write( json.dumps(inst_dict, indent=2) )\n",
    "  else:\n",
    "    fw.write( json.dumps(inst_dict) )\n",
    "  fw.close()\n",
    "\n",
    "\n",
    "# load json to dict\n",
    "def load_to_dict( filename ):\n",
    "  import json\n",
    "  # load\n",
    "  f = open(filename,'r')\n",
    "  inst_dict = json.load(f)\n",
    "  f.close()\n",
    "  return inst_dict\n"
   ]
  },
  {
   "cell_type": "code",
   "execution_count": 132,
   "metadata": {},
   "outputs": [],
   "source": [
    "save_to_json(results, 'PMA_cell_type_results.json')"
   ]
  },
  {
   "cell_type": "code",
   "execution_count": null,
   "metadata": {
    "collapsed": true
   },
   "outputs": [],
   "source": []
  }
 ],
 "metadata": {
  "kernelspec": {
   "display_name": "Python [Root]",
   "language": "python",
   "name": "Python [Root]"
  },
  "language_info": {
   "codemirror_mode": {
    "name": "ipython",
    "version": 2
   },
   "file_extension": ".py",
   "mimetype": "text/x-python",
   "name": "python",
   "nbconvert_exporter": "python",
   "pygments_lexer": "ipython2",
   "version": "2.7.12"
  }
 },
 "nbformat": 4,
 "nbformat_minor": 2
}
