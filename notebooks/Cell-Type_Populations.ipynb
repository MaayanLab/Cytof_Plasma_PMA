{
 "cells": [
  {
   "cell_type": "markdown",
   "metadata": {},
   "source": [
    "# T-test\n",
    "example"
   ]
  },
  {
   "cell_type": "code",
   "execution_count": 67,
   "metadata": {},
   "outputs": [],
   "source": [
    "import numpy as np\n",
    "import pandas as pd\n",
    "from scipy.stats import ttest_ind\n",
    "from collections import Counter"
   ]
  },
  {
   "cell_type": "code",
   "execution_count": null,
   "metadata": {
    "collapsed": true
   },
   "outputs": [],
   "source": [
    "from clustergrammer_widget import *\n",
    "net = Network(clustergrammer_widget)"
   ]
  },
  {
   "cell_type": "code",
   "execution_count": 2,
   "metadata": {},
   "outputs": [
    {
     "name": "stdout",
     "output_type": "stream",
     "text": [
      "ttest_ind:2.81708330972e-07\n"
     ]
    }
   ],
   "source": [
    "np.random.seed(99)\n",
    "\n",
    "# Create sample data.\n",
    "a = np.random.randn(10000)\n",
    "b = np.random.randn(10000) + 0.1\n",
    "\n",
    "# Use scipy.stats.ttest_ind.\n",
    "t, p = ttest_ind(a, b, equal_var=False)\n",
    "\n",
    "print('ttest_ind:' + str(p))"
   ]
  },
  {
   "cell_type": "markdown",
   "metadata": {},
   "source": [
    "# Cell-Type Populations in Plasma and PMA Treated\n",
    "\n",
    "## Load Data"
   ]
  },
  {
   "cell_type": "code",
   "execution_count": 3,
   "metadata": {},
   "outputs": [
    {
     "name": "stdout",
     "output_type": "stream",
     "text": [
      "(110000, 28)\n",
      "(110000, 28)\n"
     ]
    }
   ],
   "source": [
    "# Plasma Treated\n",
    "net.load_file('../cytof_data/Plasma_UCT.txt')\n",
    "net.random_sample(axis='row', num_samples=110000, random_state=99)\n",
    "df_plasma = net.export_df()\n",
    "\n",
    "print(df_plasma.shape)\n",
    "\n",
    "# PMA Treated\n",
    "net.load_file('../cytof_data/PMA_UCT.txt')\n",
    "net.random_sample(axis='row', num_samples=110000, random_state=99)\n",
    "df_pma = net.export_df()\n",
    "\n",
    "print(df_pma.shape)"
   ]
  },
  {
   "cell_type": "markdown",
   "metadata": {},
   "source": [
    "## Randomly Sample Data and Calc Cell-Type Populations"
   ]
  },
  {
   "cell_type": "code",
   "execution_count": 122,
   "metadata": {},
   "outputs": [
    {
     "name": "stdout",
     "output_type": "stream",
     "text": [
      "done\n"
     ]
    }
   ],
   "source": [
    "np.random.seed(99)\n",
    "num_samples = 2000\n",
    "num_runs = 100\n",
    "\n",
    "sampled_counts = {}\n",
    "sampled_counts['plasma'] = {}\n",
    "sampled_counts['pma'] = {}\n",
    "\n",
    "for inst_treatment in ['plasma', 'pma']:\n",
    "    \n",
    "    for i in range(num_runs):\n",
    "\n",
    "        # randomly subsample \n",
    "        random_state = int(np.random.random()*100)    \n",
    "        net.load_df(df_plasma)\n",
    "        net.random_sample(axis='row', num_samples=num_samples, random_state=random_state)\n",
    "        inst_df = net.export_df()\n",
    "        inst_rows = inst_df.index.tolist()\n",
    "\n",
    "        # get cell-types from rows\n",
    "        all_types = [i[2] for i in inst_rows]\n",
    "\n",
    "        types_list = sorted(list(set(all_types)))\n",
    "\n",
    "        # get the counts of all cell types in the subsampled data\n",
    "        inst_counts = Counter(all_types)\n",
    "\n",
    "        for inst_type in inst_counts.keys():\n",
    "\n",
    "            # initialize counts\n",
    "            if inst_type not in sampled_counts[inst_treatment]:\n",
    "                sampled_counts[inst_treatment][inst_type] = []\n",
    "\n",
    "            # append new count\n",
    "            sampled_counts[inst_treatment][inst_type].append(inst_counts[inst_type])\n",
    "            \n",
    "    # change to numpy array \n",
    "    for inst_type in sampled_counts[inst_treatment]:\n",
    "        sampled_counts[inst_treatment][inst_type] = np.asarray(sampled_counts[inst_treatment][inst_type])\n",
    "    \n",
    "    \n",
    "    \n",
    "print('done')"
   ]
  },
  {
   "cell_type": "code",
   "execution_count": 124,
   "metadata": {},
   "outputs": [
    {
     "name": "stdout",
     "output_type": "stream",
     "text": [
      "124.3\n",
      "9.45991543303\n"
     ]
    }
   ],
   "source": [
    "print(sampled_counts['pma']['B cells'].mean())\n",
    "print(sampled_counts['pma']['B cells'].std())"
   ]
  },
  {
   "cell_type": "code",
   "execution_count": 125,
   "metadata": {},
   "outputs": [
    {
     "name": "stdout",
     "output_type": "stream",
     "text": [
      "124.31\n",
      "11.3821746604\n"
     ]
    }
   ],
   "source": [
    "print(sampled_counts['plasma']['B cells'].mean())\n",
    "print(sampled_counts['plasma']['B cells'].std())"
   ]
  },
  {
   "cell_type": "markdown",
   "metadata": {},
   "source": [
    "## Calc Stats and Significant Differences Between Plasma and PMA"
   ]
  },
  {
   "cell_type": "code",
   "execution_count": 126,
   "metadata": {},
   "outputs": [
    {
     "name": "stdout",
     "output_type": "stream",
     "text": [
      "NK cells_CD56hi\n",
      "Plasma: 21.7 PMA: 22.17\n",
      "ttest_ind: 0.427762153249\n",
      "\n",
      "CD4 Tcells\n",
      "Plasma: 472.61 PMA: 473.67\n",
      "ttest_ind: 0.696218828586\n",
      "\n",
      "Undefined\n",
      "Plasma: 78.24 PMA: 77.55\n",
      "ttest_ind: 0.528964347678\n",
      "\n",
      "B cells\n",
      "Plasma: 124.31 PMA: 124.3\n",
      "ttest_ind: 0.994642994464\n",
      "\n",
      "CD8 Tcells\n",
      "Plasma: 277.63 PMA: 280.31\n",
      "ttest_ind: 0.271429925343\n",
      "\n",
      "CD1c DCs\n",
      "Plasma: 46.42 PMA: 47.06\n",
      "ttest_ind: 0.468327298808\n",
      "\n",
      "NK cells_CD16hi_CD57hi\n",
      "Plasma: 119.27 PMA: 117.07\n",
      "ttest_ind: 0.108796687434\n",
      "\n",
      "CD4 Tcells_CD161hi\n",
      "Plasma: 72.15 PMA: 72.14\n",
      "ttest_ind: 0.993150834628\n",
      "\n",
      "NK cells_CD16hi\n",
      "Plasma: 156.52 PMA: 157.14\n",
      "ttest_ind: 0.728304150694\n",
      "\n",
      "CD14hi monocytes\n",
      "Plasma: 170.72 PMA: 168.98\n",
      "ttest_ind: 0.333920750767\n",
      "\n",
      "CD4 Tcells+CD27hi\n",
      "Plasma: 218.17 PMA: 218.19\n",
      "ttest_ind: 0.991280263886\n",
      "\n",
      "CD14low monocytes\n",
      "Plasma: 10.89 PMA: 11.28\n",
      "ttest_ind: 0.475338973344\n",
      "\n",
      "CD4 Tcells_CD127hi\n",
      "Plasma: 86.55 PMA: 86.95\n",
      "ttest_ind: 0.779181874194\n",
      "\n",
      "Basophils\n",
      "Plasma: 24.13 PMA: 23.06\n",
      "ttest_ind: 0.124360203148\n",
      "\n",
      "Neutrophils\n",
      "Plasma: 2.88172043011 PMA: 2.69411764706\n",
      "ttest_ind: 0.39232866287\n",
      "\n",
      "CD4 Tcells_Tregs\n",
      "Plasma: 118.01 PMA: 117.84\n",
      "ttest_ind: 0.909417227293\n",
      "\n"
     ]
    }
   ],
   "source": [
    "results = {}\n",
    "\n",
    "for inst_type in sampled_counts['plasma']:\n",
    "    \n",
    "    results[inst_type] = {}\n",
    "    \n",
    "    a = sampled_counts['plasma'][inst_type]\n",
    "    b = sampled_counts['pma'][inst_type]\n",
    "\n",
    "    a_mean = a.mean()\n",
    "    b_mean = b.mean()\n",
    "    \n",
    "    a_std = a.std()\n",
    "    b_std = b.std()    \n",
    "    \n",
    "    results[inst_type]['plasma_mean'] = a_mean\n",
    "    results[inst_type]['pma_mean'] = b_mean   \n",
    "\n",
    "    results[inst_type]['plasma_std'] = a_std\n",
    "    results[inst_type]['pma_std'] = b_std      \n",
    "    \n",
    "    print(inst_type)\n",
    "    print('Plasma: ' + str(a_mean) + ' PMA: ' + str(b_mean))\n",
    "\n",
    "    t, p = ttest_ind(a, b, equal_var=False)\n",
    "    \n",
    "    results[inst_type]['ttest_t'] = t\n",
    "    results[inst_type]['ttest_pval'] = t\n",
    "\n",
    "    print('ttest_ind: ' + str(p) + '\\n')"
   ]
  },
  {
   "cell_type": "code",
   "execution_count": 127,
   "metadata": {},
   "outputs": [
    {
     "data": {
      "text/plain": [
       "{'B cells': {'plasma_mean': 124.31,\n",
       "  'plasma_std': 11.382174660406507,\n",
       "  'pma_mean': 124.3,\n",
       "  'pma_std': 9.4599154330258166,\n",
       "  'ttest_pval': 0.0067228282389601808,\n",
       "  'ttest_t': 0.0067228282389601808},\n",
       " 'Basophils': {'plasma_mean': 24.129999999999999,\n",
       "  'plasma_std': 4.8013643894209901,\n",
       "  'pma_mean': 23.059999999999999,\n",
       "  'pma_std': 4.9534230588553605,\n",
       "  'ttest_pval': 1.5432838236493933,\n",
       "  'ttest_t': 1.5432838236493933},\n",
       " 'CD14hi monocytes': {'plasma_mean': 170.72,\n",
       "  'plasma_std': 12.071520202526274,\n",
       "  'pma_mean': 168.97999999999999,\n",
       "  'pma_std': 13.181031826074921,\n",
       "  'ttest_pval': 0.96862971125329356,\n",
       "  'ttest_t': 0.96862971125329356},\n",
       " 'CD14low monocytes': {'plasma_mean': 10.890000000000001,\n",
       "  'plasma_std': 3.7970909917988536,\n",
       "  'pma_mean': 11.279999999999999,\n",
       "  'pma_std': 3.8757708910615447,\n",
       "  'ttest_pval': -0.71518268187145695,\n",
       "  'ttest_t': -0.71518268187145695},\n",
       " 'CD1c DCs': {'plasma_mean': 46.420000000000002,\n",
       "  'plasma_std': 5.7011928576395308,\n",
       "  'pma_mean': 47.060000000000002,\n",
       "  'pma_std': 6.655554071600652,\n",
       "  'ttest_pval': -0.7266360849833986,\n",
       "  'ttest_t': -0.7266360849833986},\n",
       " 'CD4 Tcells': {'plasma_mean': 472.61000000000001,\n",
       "  'plasma_std': 19.658023807087016,\n",
       "  'pma_mean': 473.67000000000002,\n",
       "  'pma_std': 18.470546824607009,\n",
       "  'ttest_pval': -0.39100059277885246,\n",
       "  'ttest_t': -0.39100059277885246},\n",
       " 'CD4 Tcells+CD27hi': {'plasma_mean': 218.16999999999999,\n",
       "  'plasma_std': 13.010038431918638,\n",
       "  'pma_mean': 218.19,\n",
       "  'pma_std': 12.70645111744424,\n",
       "  'ttest_pval': -0.010942603077674851,\n",
       "  'ttest_t': -0.010942603077674851},\n",
       " 'CD4 Tcells_CD127hi': {'plasma_mean': 86.549999999999997,\n",
       "  'plasma_std': 10.369546759622621,\n",
       "  'pma_mean': 86.950000000000003,\n",
       "  'pma_std': 9.66475555821253,\n",
       "  'ttest_pval': -0.28076941234916208,\n",
       "  'ttest_t': -0.28076941234916208},\n",
       " 'CD4 Tcells_CD161hi': {'plasma_mean': 72.150000000000006,\n",
       "  'plasma_std': 8.0017185654083089,\n",
       "  'pma_mean': 72.140000000000001,\n",
       "  'pma_std': 8.3654288592994437,\n",
       "  'ttest_pval': 0.0085951289475281589,\n",
       "  'ttest_t': 0.0085951289475281589},\n",
       " 'CD4 Tcells_Tregs': {'plasma_mean': 118.01000000000001,\n",
       "  'plasma_std': 10.605182695267441,\n",
       "  'pma_mean': 117.84,\n",
       "  'pma_std': 10.392035411794939,\n",
       "  'ttest_pval': 0.11391931943773267,\n",
       "  'ttest_t': 0.11391931943773267},\n",
       " 'CD8 Tcells': {'plasma_mean': 277.63,\n",
       "  'plasma_std': 15.310555182618298,\n",
       "  'pma_mean': 280.31,\n",
       "  'pma_std': 18.710261890203462,\n",
       "  'ttest_pval': -1.1029732080166403,\n",
       "  'ttest_t': -1.1029732080166403},\n",
       " 'NK cells_CD16hi': {'plasma_mean': 156.52000000000001,\n",
       "  'plasma_std': 11.663172810174768,\n",
       "  'pma_mean': 157.13999999999999,\n",
       "  'pma_std': 13.357409928575224,\n",
       "  'ttest_pval': -0.34788322482430545,\n",
       "  'ttest_t': -0.34788322482430545},\n",
       " 'NK cells_CD16hi_CD57hi': {'plasma_mean': 119.27,\n",
       "  'plasma_std': 9.9265855156745619,\n",
       "  'pma_mean': 117.06999999999999,\n",
       "  'pma_std': 9.2792833775028143,\n",
       "  'ttest_pval': 1.6109230477081213,\n",
       "  'ttest_t': 1.6109230477081213},\n",
       " 'NK cells_CD56hi': {'plasma_mean': 21.699999999999999,\n",
       "  'plasma_std': 4.2035699113967402,\n",
       "  'pma_mean': 22.170000000000002,\n",
       "  'pma_std': 4.118385606035452,\n",
       "  'ttest_pval': -0.79466175493957414,\n",
       "  'ttest_t': -0.79466175493957414},\n",
       " 'Neutrophils': {'plasma_mean': 2.881720430107527,\n",
       "  'plasma_std': 1.5715854768634085,\n",
       "  'pma_mean': 2.6941176470588237,\n",
       "  'pma_std': 1.328630691942247,\n",
       "  'ttest_pval': 0.85752345287108478,\n",
       "  'ttest_t': 0.85752345287108478},\n",
       " 'Undefined': {'plasma_mean': 78.239999999999995,\n",
       "  'plasma_std': 7.9550235700467908,\n",
       "  'pma_mean': 77.549999999999997,\n",
       "  'pma_std': 7.4301749642925641,\n",
       "  'ttest_pval': 0.63070463348697736,\n",
       "  'ttest_t': 0.63070463348697736}}"
      ]
     },
     "execution_count": 127,
     "metadata": {},
     "output_type": "execute_result"
    }
   ],
   "source": [
    "results"
   ]
  },
  {
   "cell_type": "code",
   "execution_count": 128,
   "metadata": {},
   "outputs": [
    {
     "ename": "ImportError",
     "evalue": "No module named plotly.plotly",
     "output_type": "error",
     "traceback": [
      "\u001b[0;31m---------------------------------------------------------------------------\u001b[0m",
      "\u001b[0;31mImportError\u001b[0m                               Traceback (most recent call last)",
      "\u001b[0;32m<ipython-input-128-047faa19d6d4>\u001b[0m in \u001b[0;36m<module>\u001b[0;34m()\u001b[0m\n\u001b[0;32m----> 1\u001b[0;31m \u001b[0;32mimport\u001b[0m \u001b[0mplotly\u001b[0m\u001b[0;34m.\u001b[0m\u001b[0mplotly\u001b[0m \u001b[0;32mas\u001b[0m \u001b[0mpy\u001b[0m\u001b[0;34m\u001b[0m\u001b[0m\n\u001b[0m\u001b[1;32m      2\u001b[0m \u001b[0;32mimport\u001b[0m \u001b[0mplotly\u001b[0m\u001b[0;34m.\u001b[0m\u001b[0mgraph_objs\u001b[0m \u001b[0;32mas\u001b[0m \u001b[0mgo\u001b[0m\u001b[0;34m\u001b[0m\u001b[0m\n\u001b[1;32m      3\u001b[0m \u001b[0;34m\u001b[0m\u001b[0m\n\u001b[1;32m      4\u001b[0m trace1 = go.Bar(\n\u001b[1;32m      5\u001b[0m     \u001b[0mx\u001b[0m\u001b[0;34m=\u001b[0m\u001b[0;34m[\u001b[0m\u001b[0;34m'Trial 1'\u001b[0m\u001b[0;34m,\u001b[0m \u001b[0;34m'Trial 2'\u001b[0m\u001b[0;34m,\u001b[0m \u001b[0;34m'Trial 3'\u001b[0m\u001b[0;34m]\u001b[0m\u001b[0;34m,\u001b[0m\u001b[0;34m\u001b[0m\u001b[0m\n",
      "\u001b[0;31mImportError\u001b[0m: No module named plotly.plotly"
     ]
    }
   ],
   "source": [
    "import plotly.plotly as py\n",
    "import plotly.graph_objs as go\n",
    "\n",
    "trace1 = go.Bar(\n",
    "    x=['Trial 1', 'Trial 2', 'Trial 3'],\n",
    "    y=[3, 6, 4],\n",
    "    name='Control',\n",
    "    error_y=dict(\n",
    "        type='data',\n",
    "        array=[1, 0.5, 1.5],\n",
    "        visible=True\n",
    "    )\n",
    ")\n",
    "trace2 = go.Bar(\n",
    "    x=['Trial 1', 'Trial 2', 'Trial 3'],\n",
    "    y=[4, 7, 3],\n",
    "    name='Experimental',\n",
    "    error_y=dict(\n",
    "        type='data',\n",
    "        array=[0.5, 1, 2],\n",
    "        visible=True\n",
    "    )\n",
    ")\n",
    "data = [trace1, trace2]\n",
    "layout = go.Layout(\n",
    "    barmode='group'\n",
    ")\n",
    "fig = go.Figure(data=data, layout=layout)\n",
    "py.iplot(fig, filename='error-bar-bar')\n"
   ]
  },
  {
   "cell_type": "code",
   "execution_count": null,
   "metadata": {
    "collapsed": true
   },
   "outputs": [],
   "source": []
  }
 ],
 "metadata": {
  "kernelspec": {
   "display_name": "Python [Root]",
   "language": "python",
   "name": "Python [Root]"
  },
  "language_info": {
   "codemirror_mode": {
    "name": "ipython",
    "version": 2
   },
   "file_extension": ".py",
   "mimetype": "text/x-python",
   "name": "python",
   "nbconvert_exporter": "python",
   "pygments_lexer": "ipython2",
   "version": "2.7.12"
  }
 },
 "nbformat": 4,
 "nbformat_minor": 2
}
