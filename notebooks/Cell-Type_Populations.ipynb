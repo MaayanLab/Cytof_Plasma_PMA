{
 "cells": [
  {
   "cell_type": "markdown",
   "metadata": {},
   "source": [
    "# T-test\n",
    "example"
   ]
  },
  {
   "cell_type": "code",
   "execution_count": 67,
   "metadata": {},
   "outputs": [],
   "source": [
    "import numpy as np\n",
    "import pandas as pd\n",
    "from scipy.stats import ttest_ind\n",
    "from collections import Counter"
   ]
  },
  {
   "cell_type": "code",
   "execution_count": null,
   "metadata": {
    "collapsed": true
   },
   "outputs": [],
   "source": [
    "from clustergrammer_widget import *\n",
    "net = Network(clustergrammer_widget)"
   ]
  },
  {
   "cell_type": "code",
   "execution_count": 2,
   "metadata": {},
   "outputs": [
    {
     "name": "stdout",
     "output_type": "stream",
     "text": [
      "ttest_ind:2.81708330972e-07\n"
     ]
    }
   ],
   "source": [
    "np.random.seed(99)\n",
    "\n",
    "# Create sample data.\n",
    "a = np.random.randn(10000)\n",
    "b = np.random.randn(10000) + 0.1\n",
    "\n",
    "# Use scipy.stats.ttest_ind.\n",
    "t, p = ttest_ind(a, b, equal_var=False)\n",
    "\n",
    "print('ttest_ind:' + str(p))"
   ]
  },
  {
   "cell_type": "markdown",
   "metadata": {},
   "source": [
    "# Cell-Type Populations in Plasma and PMA Treated\n",
    "\n",
    "## Load Data"
   ]
  },
  {
   "cell_type": "code",
   "execution_count": 3,
   "metadata": {},
   "outputs": [
    {
     "name": "stdout",
     "output_type": "stream",
     "text": [
      "(110000, 28)\n",
      "(110000, 28)\n"
     ]
    }
   ],
   "source": [
    "# Plasma Treated\n",
    "net.load_file('../cytof_data/Plasma_UCT.txt')\n",
    "net.random_sample(axis='row', num_samples=110000, random_state=99)\n",
    "df_plasma = net.export_df()\n",
    "\n",
    "print(df_plasma.shape)\n",
    "\n",
    "# PMA Treated\n",
    "net.load_file('../cytof_data/PMA_UCT.txt')\n",
    "net.random_sample(axis='row', num_samples=110000, random_state=99)\n",
    "df_pma = net.export_df()\n",
    "\n",
    "print(df_pma.shape)"
   ]
  },
  {
   "cell_type": "markdown",
   "metadata": {},
   "source": [
    "## Randomly Sample Data and Calc Cell-Type Populations"
   ]
  },
  {
   "cell_type": "code",
   "execution_count": null,
   "metadata": {},
   "outputs": [],
   "source": [
    "np.random.seed(99)\n",
    "num_samples = 2000\n",
    "\n",
    "sampled_counts = {}\n",
    "\n",
    "for i in range(100):\n",
    "\n",
    "    # randomly subsample \n",
    "    random_state = int(np.random.random()*100)    \n",
    "    net.load_df(df_plasma)\n",
    "    net.random_sample(axis='row', num_samples=num_samples, random_state=random_state)\n",
    "    inst_df = net.export_df()\n",
    "    inst_rows = inst_df.index.tolist()\n",
    "\n",
    "    # get cell-types from rows\n",
    "    all_types = [i[2] for i in inst_rows]\n",
    "    \n",
    "    types_list = sorted(list(set(all_types)))\n",
    "    \n",
    "    # get the counts of all cell types in the subsampled data\n",
    "    inst_counts = Counter(all_types)\n",
    "    \n",
    "    for inst_type in inst_counts.keys():\n",
    "        \n",
    "        # initialize counts\n",
    "        if inst_type not in sampled_counts:\n",
    "            sampled_counts[inst_type] = []\n",
    "        \n",
    "        # append new count\n",
    "        sampled_counts[inst_type].append(inst_counts[inst_type])\n",
    "    \n",
    "    \n",
    "    \n",
    "sampled_counts['B cells']    "
   ]
  },
  {
   "cell_type": "code",
   "execution_count": 80,
   "metadata": {},
   "outputs": [
    {
     "data": {
      "text/plain": [
       "[131, 119]"
      ]
     },
     "execution_count": 80,
     "metadata": {},
     "output_type": "execute_result"
    }
   ],
   "source": []
  },
  {
   "cell_type": "code",
   "execution_count": 57,
   "metadata": {},
   "outputs": [
    {
     "data": {
      "text/plain": [
       "['CD4 Tcells+CD27hi',\n",
       " 'NK cells_CD16hi',\n",
       " 'NK cells_CD16hi',\n",
       " 'NK cells_CD16hi_CD57hi']"
      ]
     },
     "execution_count": 57,
     "metadata": {},
     "output_type": "execute_result"
    }
   ],
   "source": []
  },
  {
   "cell_type": "code",
   "execution_count": null,
   "metadata": {
    "collapsed": true
   },
   "outputs": [],
   "source": []
  }
 ],
 "metadata": {
  "kernelspec": {
   "display_name": "Python [Root]",
   "language": "python",
   "name": "Python [Root]"
  },
  "language_info": {
   "codemirror_mode": {
    "name": "ipython",
    "version": 2
   },
   "file_extension": ".py",
   "mimetype": "text/x-python",
   "name": "python",
   "nbconvert_exporter": "python",
   "pygments_lexer": "ipython2",
   "version": "2.7.12"
  }
 },
 "nbformat": 4,
 "nbformat_minor": 2
}
