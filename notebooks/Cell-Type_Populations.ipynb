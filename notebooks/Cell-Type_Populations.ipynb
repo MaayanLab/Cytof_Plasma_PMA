{
 "cells": [
  {
   "cell_type": "markdown",
   "metadata": {},
   "source": [
    "# T-test\n",
    "example"
   ]
  },
  {
   "cell_type": "code",
   "execution_count": 67,
   "metadata": {},
   "outputs": [],
   "source": [
    "import numpy as np\n",
    "import pandas as pd\n",
    "from scipy.stats import ttest_ind\n",
    "from collections import Counter"
   ]
  },
  {
   "cell_type": "code",
   "execution_count": null,
   "metadata": {
    "collapsed": true
   },
   "outputs": [],
   "source": [
    "from clustergrammer_widget import *\n",
    "net = Network(clustergrammer_widget)"
   ]
  },
  {
   "cell_type": "code",
   "execution_count": 2,
   "metadata": {},
   "outputs": [
    {
     "name": "stdout",
     "output_type": "stream",
     "text": [
      "ttest_ind:2.81708330972e-07\n"
     ]
    }
   ],
   "source": [
    "np.random.seed(99)\n",
    "\n",
    "# Create sample data.\n",
    "a = np.random.randn(10000)\n",
    "b = np.random.randn(10000) + 0.1\n",
    "\n",
    "# Use scipy.stats.ttest_ind.\n",
    "t, p = ttest_ind(a, b, equal_var=False)\n",
    "\n",
    "print('ttest_ind:' + str(p))"
   ]
  },
  {
   "cell_type": "markdown",
   "metadata": {},
   "source": [
    "# Cell-Type Populations in Plasma and PMA Treated\n",
    "\n",
    "## Load Data"
   ]
  },
  {
   "cell_type": "code",
   "execution_count": 3,
   "metadata": {},
   "outputs": [
    {
     "name": "stdout",
     "output_type": "stream",
     "text": [
      "(110000, 28)\n",
      "(110000, 28)\n"
     ]
    }
   ],
   "source": [
    "# Plasma Treated\n",
    "net.load_file('../cytof_data/Plasma_UCT.txt')\n",
    "net.random_sample(axis='row', num_samples=110000, random_state=99)\n",
    "df_plasma = net.export_df()\n",
    "\n",
    "print(df_plasma.shape)\n",
    "\n",
    "# PMA Treated\n",
    "net.load_file('../cytof_data/PMA_UCT.txt')\n",
    "net.random_sample(axis='row', num_samples=110000, random_state=99)\n",
    "df_pma = net.export_df()\n",
    "\n",
    "print(df_pma.shape)"
   ]
  },
  {
   "cell_type": "markdown",
   "metadata": {},
   "source": [
    "## Randomly Sample Data and Calc Cell-Type Populations"
   ]
  },
  {
   "cell_type": "code",
   "execution_count": 109,
   "metadata": {},
   "outputs": [],
   "source": [
    "np.random.seed(99)\n",
    "num_samples = 2000\n",
    "num_runs = 5\n",
    "\n",
    "sampled_counts = {}\n",
    "sampled_counts['plasma'] = {}\n",
    "sampled_counts['pma'] = {}\n",
    "\n",
    "for inst_treatment in ['plasma', 'pma']:\n",
    "    \n",
    "    for i in range(num_runs):\n",
    "\n",
    "        # randomly subsample \n",
    "        random_state = int(np.random.random()*100)    \n",
    "        net.load_df(df_plasma)\n",
    "        net.random_sample(axis='row', num_samples=num_samples, random_state=random_state)\n",
    "        inst_df = net.export_df()\n",
    "        inst_rows = inst_df.index.tolist()\n",
    "\n",
    "        # get cell-types from rows\n",
    "        all_types = [i[2] for i in inst_rows]\n",
    "\n",
    "        types_list = sorted(list(set(all_types)))\n",
    "\n",
    "        # get the counts of all cell types in the subsampled data\n",
    "        inst_counts = Counter(all_types)\n",
    "\n",
    "        for inst_type in inst_counts.keys():\n",
    "\n",
    "            # initialize counts\n",
    "            if inst_type not in sampled_counts[inst_treatment]:\n",
    "                sampled_counts[inst_treatment][inst_type] = []\n",
    "\n",
    "            # append new count\n",
    "            sampled_counts[inst_treatment][inst_type].append(inst_counts[inst_type])\n",
    "            \n",
    "    # change to numpy array \n",
    "    for inst_type in sampled_counts[inst_treatment]:\n",
    "        sampled_counts[inst_treatment][inst_type] = np.asarray(sampled_counts[inst_treatment][inst_type])\n",
    "    \n",
    "    \n",
    "    \n"
   ]
  },
  {
   "cell_type": "code",
   "execution_count": 110,
   "metadata": {},
   "outputs": [
    {
     "name": "stdout",
     "output_type": "stream",
     "text": [
      "118.6\n",
      "11.9599331102\n"
     ]
    }
   ],
   "source": [
    "print(sampled_counts['pma']['B cells'].mean())\n",
    "print(sampled_counts['pma']['B cells'].std())"
   ]
  },
  {
   "cell_type": "code",
   "execution_count": 111,
   "metadata": {},
   "outputs": [
    {
     "name": "stdout",
     "output_type": "stream",
     "text": [
      "126.6\n",
      "9.32952303175\n"
     ]
    }
   ],
   "source": [
    "print(sampled_counts['plasma']['B cells'].mean())\n",
    "print(sampled_counts['plasma']['B cells'].std())"
   ]
  },
  {
   "cell_type": "markdown",
   "metadata": {},
   "source": [
    "## Calc Stats and Significant Differences Between Plasma and PMA"
   ]
  },
  {
   "cell_type": "code",
   "execution_count": 119,
   "metadata": {},
   "outputs": [
    {
     "name": "stdout",
     "output_type": "stream",
     "text": [
      "NK cells_CD56hi\n",
      "Plasma: 22.8 PMA: 18.8\n",
      "ttest_ind: 0.21888902798\n",
      "\n",
      "CD4 Tcells\n",
      "Plasma: 468.2 PMA: 455.2\n",
      "ttest_ind: 0.397334309517\n",
      "\n",
      "Undefined\n",
      "Plasma: 75.4 PMA: 75.8\n",
      "ttest_ind: 0.940799333083\n",
      "\n",
      "B cells\n",
      "Plasma: 126.6 PMA: 118.6\n",
      "ttest_ind: 0.324076202332\n",
      "\n",
      "CD8 Tcells\n",
      "Plasma: 281.8 PMA: 291.0\n",
      "ttest_ind: 0.332279668434\n",
      "\n",
      "CD1c DCs\n",
      "Plasma: 45.8 PMA: 41.4\n",
      "ttest_ind: 0.211929166973\n",
      "\n",
      "NK cells_CD16hi_CD57hi\n",
      "Plasma: 118.6 PMA: 119.0\n",
      "ttest_ind: 0.951993687058\n",
      "\n",
      "CD4 Tcells_CD161hi\n",
      "Plasma: 72.4 PMA: 75.6\n",
      "ttest_ind: 0.488680775934\n",
      "\n",
      "NK cells_CD16hi\n",
      "Plasma: 159.0 PMA: 170.6\n",
      "ttest_ind: 0.177854425695\n",
      "\n",
      "CD14hi monocytes\n",
      "Plasma: 168.0 PMA: 172.0\n",
      "ttest_ind: 0.683538563096\n",
      "\n",
      "CD4 Tcells+CD27hi\n",
      "Plasma: 221.2 PMA: 220.4\n",
      "ttest_ind: 0.944297701953\n",
      "\n",
      "CD14low monocytes\n",
      "Plasma: 11.2 PMA: 11.8\n",
      "ttest_ind: 0.849221485021\n",
      "\n",
      "CD4 Tcells_CD127hi\n",
      "Plasma: 83.8 PMA: 82.0\n",
      "ttest_ind: 0.787429810791\n",
      "\n",
      "Basophils\n",
      "Plasma: 25.8 PMA: 25.8\n",
      "ttest_ind: 1.0\n",
      "\n",
      "Neutrophils\n",
      "Plasma: 3.0 PMA: 3.0\n",
      "ttest_ind: 1.0\n",
      "\n",
      "CD4 Tcells_Tregs\n",
      "Plasma: 116.4 PMA: 119.0\n",
      "ttest_ind: 0.748096196952\n",
      "\n"
     ]
    }
   ],
   "source": [
    "results = {}\n",
    "\n",
    "for inst_type in sampled_counts['plasma']:\n",
    "    \n",
    "    results[inst_type] = {}\n",
    "    \n",
    "    a = sampled_counts['plasma'][inst_type]\n",
    "    b = sampled_counts['pma'][inst_type]\n",
    "\n",
    "    a_mean = a.mean()\n",
    "    b_mean = b.mean()\n",
    "    \n",
    "    a_std = a.std()\n",
    "    b_std = b.std()    \n",
    "    \n",
    "    results[inst_type]['plasma_mean'] = a_mean\n",
    "    results[inst_type]['pma_mean'] = b_mean   \n",
    "\n",
    "    results[inst_type]['plasma_std'] = a_std\n",
    "    results[inst_type]['pma_std'] = b_std      \n",
    "    \n",
    "    print(inst_type)\n",
    "    print('Plasma: ' + str(a_mean) + ' PMA: ' + str(b_mean))\n",
    "\n",
    "    t, p = ttest_ind(a, b, equal_var=False)\n",
    "    \n",
    "    results[inst_type]['ttest_t'] = t\n",
    "    results[inst_type]['ttest_pval'] = t\n",
    "\n",
    "    print('ttest_ind: ' + str(p) + '\\n')"
   ]
  },
  {
   "cell_type": "code",
   "execution_count": 120,
   "metadata": {},
   "outputs": [
    {
     "data": {
      "text/plain": [
       "{'B cells': {'plasma_mean': 126.59999999999999,\n",
       "  'plasma_std': 9.3295230317524798,\n",
       "  'pma_mean': 118.59999999999999,\n",
       "  'pma_std': 11.959933110180843,\n",
       "  'ttest_pval': 1.0548253254997797,\n",
       "  'ttest_t': 1.0548253254997797},\n",
       " 'Basophils': {'plasma_mean': 25.800000000000001,\n",
       "  'plasma_std': 4.9558046773455473,\n",
       "  'pma_mean': 25.800000000000001,\n",
       "  'pma_std': 4.4899888641287298,\n",
       "  'ttest_pval': 0.0,\n",
       "  'ttest_t': 0.0},\n",
       " 'CD14hi monocytes': {'plasma_mean': 168.0,\n",
       "  'plasma_std': 16.780941570722426,\n",
       "  'pma_mean': 172.0,\n",
       "  'pma_std': 8.1486195149853451,\n",
       "  'ttest_pval': -0.42884501393511792,\n",
       "  'ttest_t': -0.42884501393511792},\n",
       " 'CD14low monocytes': {'plasma_mean': 11.199999999999999,\n",
       "  'plasma_std': 2.9933259094191529,\n",
       "  'pma_mean': 11.800000000000001,\n",
       "  'pma_std': 5.2687759489277965,\n",
       "  'ttest_pval': -0.19802950859533533,\n",
       "  'ttest_t': -0.19802950859533533},\n",
       " 'CD1c DCs': {'plasma_mean': 45.799999999999997,\n",
       "  'plasma_std': 5.2687759489277965,\n",
       "  'pma_mean': 41.399999999999999,\n",
       "  'pma_std': 3.6660605559646724,\n",
       "  'ttest_pval': 1.3709892962694623,\n",
       "  'ttest_t': 1.3709892962694623},\n",
       " 'CD4 Tcells': {'plasma_mean': 468.19999999999999,\n",
       "  'plasma_std': 25.810075552001006,\n",
       "  'pma_mean': 455.19999999999999,\n",
       "  'pma_std': 11.805083650698965,\n",
       "  'ttest_pval': 0.91608375968693012,\n",
       "  'ttest_t': 0.91608375968693012},\n",
       " 'CD4 Tcells+CD27hi': {'plasma_mean': 221.19999999999999,\n",
       "  'plasma_std': 17.769637024992942,\n",
       "  'pma_mean': 220.40000000000001,\n",
       "  'pma_std': 13.200000000000001,\n",
       "  'ttest_pval': 0.072280632232418568,\n",
       "  'ttest_t': 0.072280632232418568},\n",
       " 'CD4 Tcells_CD127hi': {'plasma_mean': 83.799999999999997,\n",
       "  'plasma_std': 11.771151175649729,\n",
       "  'pma_mean': 82.0,\n",
       "  'pma_std': 4.7328638264796927,\n",
       "  'ttest_pval': 0.28375499750374378,\n",
       "  'ttest_t': 0.28375499750374378},\n",
       " 'CD4 Tcells_CD161hi': {'plasma_mean': 72.400000000000006,\n",
       "  'plasma_std': 6.5604877867426898,\n",
       "  'pma_mean': 75.599999999999994,\n",
       "  'pma_std': 5.8855755878248646,\n",
       "  'ttest_pval': -0.72614836783623071,\n",
       "  'ttest_t': -0.72614836783623071},\n",
       " 'CD4 Tcells_Tregs': {'plasma_mean': 116.40000000000001,\n",
       "  'plasma_std': 9.7488460855631534,\n",
       "  'pma_mean': 119.0,\n",
       "  'pma_std': 12.198360545581526,\n",
       "  'ttest_pval': -0.33300508772606324,\n",
       "  'ttest_t': -0.33300508772606324},\n",
       " 'CD8 Tcells': {'plasma_mean': 281.80000000000001,\n",
       "  'plasma_std': 15.587174214718971,\n",
       "  'pma_mean': 291.0,\n",
       "  'pma_std': 7.7717436910901787,\n",
       "  'ttest_pval': -1.056424988001637,\n",
       "  'ttest_t': -1.056424988001637},\n",
       " 'NK cells_CD16hi': {'plasma_mean': 159.0,\n",
       "  'plasma_std': 7.3212020870892509,\n",
       "  'pma_mean': 170.59999999999999,\n",
       "  'pma_std': 13.395521639712282,\n",
       "  'ttest_pval': -1.5197520892017298,\n",
       "  'ttest_t': -1.5197520892017298},\n",
       " 'NK cells_CD16hi_CD57hi': {'plasma_mean': 118.59999999999999,\n",
       "  'plasma_std': 6.2161081071680204,\n",
       "  'pma_mean': 119.0,\n",
       "  'pma_std': 11.153474794878949,\n",
       "  'ttest_pval': -0.062653148967664746,\n",
       "  'ttest_t': -0.062653148967664746},\n",
       " 'NK cells_CD56hi': {'plasma_mean': 22.800000000000001,\n",
       "  'plasma_std': 4.0693979898751609,\n",
       "  'pma_mean': 18.800000000000001,\n",
       "  'pma_std': 4.4000000000000004,\n",
       "  'ttest_pval': 1.3348172885319998,\n",
       "  'ttest_t': 1.3348172885319998},\n",
       " 'Neutrophils': {'plasma_mean': 3.0,\n",
       "  'plasma_std': 1.6733200530681511,\n",
       "  'pma_mean': 3.0,\n",
       "  'pma_std': 1.8973665961010275,\n",
       "  'ttest_pval': 0.0,\n",
       "  'ttest_t': 0.0},\n",
       " 'Undefined': {'plasma_mean': 75.400000000000006,\n",
       "  'plasma_std': 7.9649231006959518,\n",
       "  'pma_mean': 75.799999999999997,\n",
       "  'pma_std': 6.7349832961930947,\n",
       "  'ttest_pval': -0.076696498884735412,\n",
       "  'ttest_t': -0.076696498884735412}}"
      ]
     },
     "execution_count": 120,
     "metadata": {},
     "output_type": "execute_result"
    }
   ],
   "source": [
    "results"
   ]
  },
  {
   "cell_type": "code",
   "execution_count": null,
   "metadata": {
    "collapsed": true
   },
   "outputs": [],
   "source": []
  }
 ],
 "metadata": {
  "kernelspec": {
   "display_name": "Python [Root]",
   "language": "python",
   "name": "Python [Root]"
  },
  "language_info": {
   "codemirror_mode": {
    "name": "ipython",
    "version": 2
   },
   "file_extension": ".py",
   "mimetype": "text/x-python",
   "name": "python",
   "nbconvert_exporter": "python",
   "pygments_lexer": "ipython2",
   "version": "2.7.12"
  }
 },
 "nbformat": 4,
 "nbformat_minor": 2
}
