{
 "cells": [
  {
   "cell_type": "markdown",
   "metadata": {},
   "source": [
    "# Cell Types Updated\n",
    "This notebook will calculate the average surface marker level for each cell dendrogram cluster. "
   ]
  },
  {
   "cell_type": "code",
   "execution_count": 1,
   "metadata": {
    "collapsed": true
   },
   "outputs": [],
   "source": [
    "import pandas as pd\n",
    "import numpy as np\n",
    "from clustergrammer_widget import *\n",
    "net = Network(clustergrammer_widget)"
   ]
  },
  {
   "cell_type": "code",
   "execution_count": 2,
   "metadata": {
    "collapsed": true
   },
   "outputs": [],
   "source": [
    "# load plasma.txt original data (e.g. not normalized, etc)\n",
    "net.load_file('../cytof_data/Plasma_clean.txt')\n",
    "df_plasma = net.export_df()\n",
    "\n",
    "# load pma.txt original data\n",
    "net.load_file('../cytof_data/PMA_clean.txt')\n",
    "df_pma = net.export_df()"
   ]
  },
  {
   "cell_type": "code",
   "execution_count": 3,
   "metadata": {
    "collapsed": true
   },
   "outputs": [],
   "source": [
    "# set colors\n",
    "net.set_cat_color('row', 1, 'Majority-Treatment: Plasma', 'blue')\n",
    "net.set_cat_color('row', 1, 'Majority-Treatment: PMA', 'red')"
   ]
  },
  {
   "cell_type": "markdown",
   "metadata": {},
   "source": [
    "# Downsample Data\n",
    "Plasma and PMA datasets will be downsampled so that each will consist of 1000 cell clusters. I will also downsample based on surface marker data."
   ]
  },
  {
   "cell_type": "code",
   "execution_count": 4,
   "metadata": {
    "collapsed": false
   },
   "outputs": [
    {
     "name": "stderr",
     "output_type": "stream",
     "text": [
      "/Users/nickfernandez/anaconda/lib/python2.7/site-packages/sklearn/cluster/k_means_.py:1382: RuntimeWarning: init_size=300 should be larger than k=1000. Setting it to 3*k\n",
      "  init_size=init_size)\n"
     ]
    }
   ],
   "source": [
    "net.load_df(df_plasma)\n",
    "net.filter_cat('col', 1, 'Marker-type: surface marker')\n",
    "net.normalize(axis='col', norm_type='zscore', keep_orig=False)\n",
    "ds_data_plasma = net.downsample(ds_type='kmeans', axis='row', num_samples=1000)\n",
    "net.clip(-10,10)\n",
    "ds_plasma = net.export_df()"
   ]
  },
  {
   "cell_type": "code",
   "execution_count": 6,
   "metadata": {
    "collapsed": true
   },
   "outputs": [],
   "source": [
    "net.load_df(df_pma)\n",
    "net.filter_cat('col', 1, 'Marker-type: surface marker')\n",
    "net.normalize(axis='col', norm_type='zscore', keep_orig=False)\n",
    "ds_data_pma = net.downsample(ds_type='kmeans', axis='row', num_samples=1000)\n",
    "net.clip(-10,10)\n",
    "ds_pma = net.export_df()"
   ]
  },
  {
   "cell_type": "markdown",
   "metadata": {},
   "source": [
    "# Merge Downsampled Plasma and PMA\n",
    "Downsampled versions of the Plasma and PMA surface marker data will be merged and hierarchically clustered. Dendrogram level 3 clusters will be used to generate cell-cluster categories.  "
   ]
  },
  {
   "cell_type": "code",
   "execution_count": 21,
   "metadata": {
    "collapsed": true
   },
   "outputs": [],
   "source": [
    "ds_merge = pd.concat([ds_plasma, ds_pma])\n",
    "\n",
    "# drop number in clust from row cateogory\n",
    "rows = ds_merge.index.tolist()\n",
    "new_rows = []\n",
    "for inst_row in rows:\n",
    "    inst_name = inst_row[0]\n",
    "    inst_cat = inst_row[1]\n",
    "    inst_tuple = (inst_name, inst_cat)\n",
    "    new_rows.append(inst_tuple)\n",
    "    \n",
    "ds_merge.index = new_rows"
   ]
  },
  {
   "cell_type": "markdown",
   "metadata": {},
   "source": [
    "## Level 4 Dendrogram Categories\n",
    "Level 4 of the dendrogram defines 15 clusters. "
   ]
  },
  {
   "cell_type": "code",
   "execution_count": 30,
   "metadata": {
    "collapsed": false
   },
   "outputs": [
    {
     "data": {
      "application/vnd.jupyter.widget-view+json": {
       "model_id": "b87c2f1961f6418da4e43c544ca3bed9"
      }
     },
     "metadata": {},
     "output_type": "display_data"
    }
   ],
   "source": [
    "net.load_df(ds_merge)\n",
    "net.cluster(views=[])\n",
    "net.dendro_cats('row', dendro_level=4)\n",
    "net.cluster(views=[])\n",
    "net.widget()"
   ]
  },
  {
   "cell_type": "code",
   "execution_count": 31,
   "metadata": {
    "collapsed": true
   },
   "outputs": [],
   "source": [
    "ds_merge_4 = net.export_df()"
   ]
  },
  {
   "cell_type": "code",
   "execution_count": 37,
   "metadata": {
    "collapsed": false
   },
   "outputs": [],
   "source": [
    "ds_merge_4.to_csv('../cytof_data/ds_merge_level_4.txt', sep='\\t')"
   ]
  },
  {
   "cell_type": "markdown",
   "metadata": {},
   "source": [
    "get categories"
   ]
  },
  {
   "cell_type": "code",
   "execution_count": 75,
   "metadata": {
    "collapsed": false
   },
   "outputs": [],
   "source": [
    "rows = ds_merge_4.index.tolist()\n",
    "dendro_cats = []\n",
    "for inst_row in rows:\n",
    "    dendro_cats.append(inst_row[2])\n",
    "dendro_cats = sorted(list(set(dendro_cats)))\n",
    "num_cats = len(dendro_cats)"
   ]
  },
  {
   "cell_type": "markdown",
   "metadata": {},
   "source": [
    "## Calculate average values of each dendrogram cluster"
   ]
  },
  {
   "cell_type": "code",
   "execution_count": 69,
   "metadata": {
    "collapsed": false
   },
   "outputs": [],
   "source": [
    "mean_merge_4 = pd.DataFrame()\n",
    "rows = []\n",
    "for i in range(num_cats):\n",
    "    inst_cat = 'Group 4: cat-' + str(i + 1)\n",
    "    net.load_df(ds_merge_4)\n",
    "    net.filter_cat('row', 2, inst_cat)\n",
    "    tmp = net.export_df()\n",
    "    tmp_mean = tmp.mean(axis=0)\n",
    "    \n",
    "    mean_merge_4 = pd.concat([mean_merge_4, tmp_mean], axis=1)\n",
    "    rows.append(inst_cat.replace('cat-', 'cluster-'))\n",
    "    \n",
    "# transpose\n",
    "mean_merge_4 = mean_merge_4.transpose()\n",
    "mean_merge_4.index = rows"
   ]
  },
  {
   "cell_type": "code",
   "execution_count": 80,
   "metadata": {
    "collapsed": false
   },
   "outputs": [
    {
     "name": "stdout",
     "output_type": "stream",
     "text": [
      "(15, 18)\n"
     ]
    }
   ],
   "source": [
    "mean_merge_4.to_csv('../cytof_data/mean_merge_4.txt', sep='\\t')\n",
    "print(mean_merge_4.shape)"
   ]
  },
  {
   "cell_type": "code",
   "execution_count": 71,
   "metadata": {
    "collapsed": false
   },
   "outputs": [
    {
     "data": {
      "application/vnd.jupyter.widget-view+json": {
       "model_id": "897bef31e42f4a7e9ddf7a4e8a920ad0"
      }
     },
     "metadata": {},
     "output_type": "display_data"
    }
   ],
   "source": [
    "net.load_df(mean_merge_4)\n",
    "net.cluster(views=[])\n",
    "net.widget()"
   ]
  },
  {
   "cell_type": "code",
   "execution_count": null,
   "metadata": {
    "collapsed": true
   },
   "outputs": [],
   "source": []
  },
  {
   "cell_type": "code",
   "execution_count": null,
   "metadata": {
    "collapsed": true
   },
   "outputs": [],
   "source": []
  },
  {
   "cell_type": "markdown",
   "metadata": {},
   "source": [
    "## Level 3 Dendrogram Categories\n",
    "Level 3 of the dendrogram defines 27 clusters."
   ]
  },
  {
   "cell_type": "code",
   "execution_count": 33,
   "metadata": {
    "collapsed": false
   },
   "outputs": [
    {
     "data": {
      "application/vnd.jupyter.widget-view+json": {
       "model_id": "2097a36e87134ed5976ba9863409e7f6"
      }
     },
     "metadata": {},
     "output_type": "display_data"
    }
   ],
   "source": [
    "net.load_df(ds_merge)\n",
    "net.cluster(views=[])\n",
    "net.dendro_cats('row', dendro_level=3)\n",
    "net.cluster(views=[])\n",
    "net.widget()"
   ]
  },
  {
   "cell_type": "code",
   "execution_count": 34,
   "metadata": {
    "collapsed": true
   },
   "outputs": [],
   "source": [
    "ds_merge_3 = net.export_df()"
   ]
  },
  {
   "cell_type": "code",
   "execution_count": 38,
   "metadata": {
    "collapsed": false
   },
   "outputs": [],
   "source": [
    "ds_merge_3.to_csv('../cytof_data/ds_merge_level_3.txt', sep='\\t')"
   ]
  },
  {
   "cell_type": "code",
   "execution_count": 76,
   "metadata": {
    "collapsed": true
   },
   "outputs": [],
   "source": [
    "rows = ds_merge_3.index.tolist()\n",
    "dendro_cats = []\n",
    "for inst_row in rows:\n",
    "    dendro_cats.append(inst_row[2])\n",
    "dendro_cats = sorted(list(set(dendro_cats)))\n",
    "num_cats = len(dendro_cats)"
   ]
  },
  {
   "cell_type": "code",
   "execution_count": 77,
   "metadata": {
    "collapsed": true
   },
   "outputs": [],
   "source": [
    "mean_merge_3 = pd.DataFrame()\n",
    "rows = []\n",
    "for i in range(num_cats):\n",
    "    inst_cat = 'Group 3: cat-' + str(i + 1)\n",
    "    net.load_df(ds_merge_3)\n",
    "    net.filter_cat('row', 2, inst_cat)\n",
    "    tmp = net.export_df()\n",
    "    tmp_mean = tmp.mean(axis=0)\n",
    "    \n",
    "    mean_merge_3 = pd.concat([mean_merge_3, tmp_mean], axis=1)\n",
    "    rows.append(inst_cat.replace('cat-', 'cluster-'))\n",
    "    \n",
    "# transpose\n",
    "mean_merge_3 = mean_merge_3.transpose()\n",
    "mean_merge_3.index = rows"
   ]
  },
  {
   "cell_type": "code",
   "execution_count": 81,
   "metadata": {
    "collapsed": false
   },
   "outputs": [
    {
     "data": {
      "text/plain": [
       "(27, 18)"
      ]
     },
     "execution_count": 81,
     "metadata": {},
     "output_type": "execute_result"
    }
   ],
   "source": [
    "mean_merge_3.to_csv('../cytof_data/mean_merge_3.txt', sep='\\t')\n",
    "mean_merge_3.shape"
   ]
  },
  {
   "cell_type": "code",
   "execution_count": 79,
   "metadata": {
    "collapsed": false
   },
   "outputs": [
    {
     "data": {
      "application/vnd.jupyter.widget-view+json": {
       "model_id": "5c112e59cee346b189d0db76efad7d5c"
      }
     },
     "metadata": {},
     "output_type": "display_data"
    }
   ],
   "source": [
    "net.load_df(mean_merge_3)\n",
    "net.cluster(views=[])\n",
    "net.widget()"
   ]
  },
  {
   "cell_type": "code",
   "execution_count": null,
   "metadata": {
    "collapsed": true
   },
   "outputs": [],
   "source": []
  }
 ],
 "metadata": {
  "kernelspec": {
   "display_name": "Python [Root]",
   "language": "python",
   "name": "Python [Root]"
  },
  "language_info": {
   "codemirror_mode": {
    "name": "ipython",
    "version": 2
   },
   "file_extension": ".py",
   "mimetype": "text/x-python",
   "name": "python",
   "nbconvert_exporter": "python",
   "pygments_lexer": "ipython2",
   "version": "2.7.12"
  }
 },
 "nbformat": 4,
 "nbformat_minor": 2
}
