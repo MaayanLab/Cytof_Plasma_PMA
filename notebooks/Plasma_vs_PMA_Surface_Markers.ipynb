{
 "cells": [
  {
   "cell_type": "markdown",
   "metadata": {},
   "source": [
    "# Plasma vs PMA Surface Marker Data\n",
    "Below we will visualize the effects of PMA on surface markers. We will use subsampling and downsampling to visualize the data."
   ]
  },
  {
   "cell_type": "code",
   "execution_count": 5,
   "metadata": {
    "collapsed": true
   },
   "outputs": [],
   "source": [
    "import pandas as pd\n",
    "from clustergrammer_widget import *\n",
    "net = Network(clustergrammer_widget)"
   ]
  },
  {
   "cell_type": "code",
   "execution_count": 6,
   "metadata": {
    "collapsed": true
   },
   "outputs": [],
   "source": [
    "# Plasma Treated\n",
    "#################\n",
    "net.load_file('../cytof_data/Plasma_UCT.txt')\n",
    "# subsample data so that both treatments have the same number of cells\n",
    "net.random_sample(axis='row', num_samples=110000, random_state=99)\n",
    "df_plasma = net.export_df()\n",
    "\n",
    "# PMA Treated\n",
    "###############\n",
    "net.load_file('../cytof_data/PMA_UCT.txt')\n",
    "# subsample data so that both treatments have the same number of cells\n",
    "net.random_sample(axis='row', num_samples=110000, random_state=99)\n",
    "df_pma = net.export_df()"
   ]
  },
  {
   "cell_type": "code",
   "execution_count": 7,
   "metadata": {
    "collapsed": true
   },
   "outputs": [],
   "source": [
    "# manually set treatment colors\n",
    "net.set_cat_color('col', 1, 'Marker-type: phospho marker', 'red')\n",
    "net.set_cat_color('col', 1, 'Marker-type: surface marker', 'blue')\n",
    "\n",
    "# manually set row colors: downsample\n",
    "net.set_cat_color('row', 2, 'Majority-Category: B cells', '#22316C')\n",
    "net.set_cat_color('row', 2, 'Majority-Category: Basophils', '#000033')\n",
    "net.set_cat_color('row', 2, 'Majority-Category: CD14hi monocytes', 'yellow')\n",
    "net.set_cat_color('row', 2, 'Majority-Category: CD14low monocytes', '#93b8bf')\n",
    "net.set_cat_color('row', 2, 'Majority-Category: CD1c DCs', '#3636e2')\n",
    "net.set_cat_color('row', 2, 'Majority-Category: CD4 Tcells', 'blue')\n",
    "net.set_cat_color('row', 2, 'Majority-Category: CD4 Tcells_CD127hi', '#FF6347')\n",
    "net.set_cat_color('row', 2, 'Majority-Category: CD4 Tcells CD161hi', '#F87531')\n",
    "net.set_cat_color('row', 2, 'Majority-Category: CD4 Tcells_Tregs', '#8B4513')\n",
    "net.set_cat_color('row', 2, 'Majority-Category: CD4 Tcells+CD27hi', '#330303')\n",
    "net.set_cat_color('row', 2, 'Majority-Category: CD8 Tcells', '#ffb247')\n",
    "net.set_cat_color('row', 2, 'Majority-Category: Neutrophils', 'purple')\n",
    "net.set_cat_color('row', 2, 'Majority-Category: NK cells_CD16hi', 'red')\n",
    "net.set_cat_color('row', 2, 'Majority-Category: NK cells_CD16hi_CD57hi', 'orange')\n",
    "net.set_cat_color('row', 2, 'Majority-Category: NK cells_CD56hi', '#e052e5')\n",
    "net.set_cat_color('row', 2, 'Majority-Category: Undefined', 'gray')\n",
    "\n",
    "# manually set row colors: subsample\n",
    "net.set_cat_color('row', 2, 'B cells', '#22316C')\n",
    "net.set_cat_color('row', 2, 'Basophils', '#000033')\n",
    "net.set_cat_color('row', 2, 'CD14hi monocytes', 'yellow')\n",
    "net.set_cat_color('row', 2, 'CD14low monocytes', '#93b8bf')\n",
    "net.set_cat_color('row', 2, 'CD1c DCs', '#3636e2')\n",
    "net.set_cat_color('row', 2, 'CD4 Tcells', 'blue')\n",
    "net.set_cat_color('row', 2, 'CD4 Tcells_CD127hi', '#FF6347')\n",
    "net.set_cat_color('row', 2, 'CD4 Tcells CD161hi', '#F87531')\n",
    "net.set_cat_color('row', 2, 'CD4 Tcells_Tregs', '#8B4513')\n",
    "net.set_cat_color('row', 2, 'CD4 Tcells+CD27hi', '#330303')\n",
    "net.set_cat_color('row', 2, 'CD8 Tcells', '#ffb247')\n",
    "net.set_cat_color('row', 2, 'Neutrophils', 'purple')\n",
    "net.set_cat_color('row', 2, 'NK cells_CD16hi', 'red')\n",
    "net.set_cat_color('row', 2, 'NK cells_CD16hi_CD57hi', 'orange')\n",
    "net.set_cat_color('row', 2, 'NK cells_CD56hi', '#e052e5')\n",
    "net.set_cat_color('row', 2, 'Undefined', 'gray')\n",
    "\n",
    "# manually set treatment colors\n",
    "net.set_cat_color('row', 1, 'Majority-Treatment: Plasma', 'blue')\n",
    "net.set_cat_color('row', 1, 'Majority-Treatment: PMA', 'red')\n",
    "\n",
    "net.set_cat_color('row', 1, 'Treatment: Plasma', 'blue')\n",
    "net.set_cat_color('row', 1, 'Treatment: PMA', 'red')"
   ]
  },
  {
   "cell_type": "code",
   "execution_count": 8,
   "metadata": {},
   "outputs": [
    {
     "name": "stdout",
     "output_type": "stream",
     "text": [
      "(220000, 28)\n"
     ]
    }
   ],
   "source": [
    "df_merge = pd.concat([df_plasma, df_pma])\n",
    "print(df_merge.shape)"
   ]
  },
  {
   "cell_type": "markdown",
   "metadata": {},
   "source": [
    "# Plasma vs PMA Surface Marker Subsample View\n",
    "Since we cannot directly visualize a 220,000 row matrix using Clustergrammer we will try two approaches to visualize the data: subsampling and downsampling. First, we will use subsampling which will randomly select 2000 cells out of the 220,000 cells from our combined dataset. "
   ]
  },
  {
   "cell_type": "code",
   "execution_count": 9,
   "metadata": {},
   "outputs": [
    {
     "data": {
      "application/vnd.jupyter.widget-view+json": {
       "model_id": "921770b32a914fcb9db46620358dad59"
      }
     },
     "metadata": {},
     "output_type": "display_data"
    }
   ],
   "source": [
    "net.load_df(df_merge)\n",
    "net.filter_cat('col', 1, 'Marker-type: surface marker')\n",
    "net.normalize(axis='col', norm_type='zscore', keep_orig=False)\n",
    "net.random_sample(axis='row', num_samples=2000, random_state=99)\n",
    "net.clip(-10, 10)\n",
    "net.cluster(views=[])\n",
    "net.widget()"
   ]
  },
  {
   "cell_type": "markdown",
   "metadata": {},
   "source": [
    "Above, we see cells cluster according to their cell type and less so by treatment (PMA vs Plasma). This is expected since cell types were defined based on surface markers and PMA treatment is not expected to have a large effect on surface marker distributions."
   ]
  },
  {
   "cell_type": "markdown",
   "metadata": {},
   "source": [
    "# Plasma vs PMA Surface Marker Downsample View"
   ]
  },
  {
   "cell_type": "code",
   "execution_count": 10,
   "metadata": {},
   "outputs": [
    {
     "name": "stderr",
     "output_type": "stream",
     "text": [
      "/Users/nickfernandez/anaconda/lib/python2.7/site-packages/sklearn/cluster/k_means_.py:1382: RuntimeWarning: init_size=300 should be larger than k=2000. Setting it to 3*k\n",
      "  init_size=init_size)\n"
     ]
    },
    {
     "data": {
      "application/vnd.jupyter.widget-view+json": {
       "model_id": "9671ebc5de6f4b3f8af0fb9f0fc895a4"
      }
     },
     "metadata": {},
     "output_type": "display_data"
    }
   ],
   "source": [
    "net.load_df(df_merge)\n",
    "net.filter_cat('col', 1, 'Marker-type: surface marker')\n",
    "net.normalize(axis='col', norm_type='zscore', keep_orig=False)\n",
    "ds_data = net.downsample(ds_type='kmeans', axis='row', num_samples=2000)\n",
    "net.clip(-10, 10)\n",
    "net.cluster(views=[])\n",
    "net.widget()"
   ]
  },
  {
   "cell_type": "markdown",
   "metadata": {},
   "source": [
    "Again we see that cells cluster according to their cell type much more than their treatment state."
   ]
  },
  {
   "cell_type": "markdown",
   "metadata": {},
   "source": [
    "### Distribution of Cell Types\n",
    "Here we see that the distribution of cell types becomes more even after downsampling. For instance the dominant cell type, CD4 Tcells, is reduced from ~50% to ~34% while other cell types are generally increased in their representation. \n",
    "\n",
    "Downsampling using phosphorylation data increased the relative representation of CD14hi monocytes, while downsampling using surface marker data reduced the relative representation of these cells. This implies that CD14hi monocytes may be homogeneous in surface marker distributions, which causes them to form large clusters when downsampling. In contrast, NK cells_CD16hi_CD57hi cells have their representation increase after downsampling - from ~12% to ~20% after downsampling. "
   ]
  },
  {
   "cell_type": "markdown",
   "metadata": {},
   "source": [
    "![cell_type_comparisons](img/plasma_vs_pma_cell_type_breakdowns_SM.png)"
   ]
  },
  {
   "cell_type": "code",
   "execution_count": null,
   "metadata": {
    "collapsed": true
   },
   "outputs": [],
   "source": []
  }
 ],
 "metadata": {
  "kernelspec": {
   "display_name": "Python [Root]",
   "language": "python",
   "name": "Python [Root]"
  },
  "language_info": {
   "codemirror_mode": {
    "name": "ipython",
    "version": 2
   },
   "file_extension": ".py",
   "mimetype": "text/x-python",
   "name": "python",
   "nbconvert_exporter": "python",
   "pygments_lexer": "ipython2",
   "version": "2.7.12"
  }
 },
 "nbformat": 4,
 "nbformat_minor": 2
}
